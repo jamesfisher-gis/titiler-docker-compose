{
 "cells": [
  {
   "cell_type": "code",
   "execution_count": 1,
   "metadata": {},
   "outputs": [],
   "source": [
    "import requests\n",
    "import json\n",
    "from folium import Map, TileLayer\n",
    "from io import BytesIO\n",
    "import rasterio\n",
    "\n",
    "%matplotlib inline"
   ]
  },
  {
   "cell_type": "code",
   "execution_count": 2,
   "metadata": {},
   "outputs": [],
   "source": [
    "titiler_endpoint = \"http://172.18.0.1:8000\""
   ]
  },
  {
   "cell_type": "code",
   "execution_count": 11,
   "metadata": {},
   "outputs": [],
   "source": [
    "ortho = r\"https://atomicmapsdemo.s3.us-west-2.amazonaws.com/christie-sub-ODM-output/odm_orthophoto/odm_orthophoto.tif\"\n",
    "dsm = r\"https://atomicmapsdemo.s3.us-west-2.amazonaws.com/christie-sub-ODM-output/odm_dem/dsm.tif\""
   ]
  },
  {
   "cell_type": "code",
   "execution_count": null,
   "metadata": {},
   "outputs": [],
   "source": [
    "def submit_request(BASE_URL, endpoint, url):\n",
    "    r = requests.get(\n",
    "        f\"{BASE_URL}/{endpoint}\",\n",
    "        params = {\n",
    "            \"url\": url,\n",
    "        }\n",
    "    ).json()\n",
    "    return r"
   ]
  },
  {
   "cell_type": "code",
   "execution_count": 4,
   "metadata": {},
   "outputs": [],
   "source": [
    "ortho_req = r\"/cog/WMTSCapabilities.xml?tile_format=tif&tile_scale=1&TileMatrixSetId=WebMercatorQuad&url=https%3A%2F%2Fatomicmapsdemo.s3.us-west-2.amazonaws.com%2Fchristie-sub-ODM-output%2Fodm_orthophoto%2Fodm_orthophoto.tif&bidx=1&bidx=2&bidx=3&unscale=false&resampling=nearest&rescale=0%2C256&rescale=0%2C256&rescale=0%2C256&return_mask=true\"\n",
    "dsm_req = r\"http://localhost:8000/cog/WMTSCapabilities.xml?tile_format=tif&tile_scale=1&TileMatrixSetId=WebMercatorQuad&url=https%3A%2F%2Fatomicmapsdemo.s3.us-west-2.amazonaws.com%2Fchristie-sub-ODM-output%2Fodm_dem%2Fdsm.tif&bidx=1&unscale=true&resampling=nearest&rescale=20%2C70&return_mask=true\""
   ]
  },
  {
   "cell_type": "code",
   "execution_count": 7,
   "metadata": {},
   "outputs": [
    {
     "name": "stdout",
     "output_type": "stream",
     "text": [
      "<Response [200]>\n"
     ]
    }
   ],
   "source": [
    "dsm_WMTS = requests.get(dsm_req)\n",
    "print(dsm_WMTS)"
   ]
  },
  {
   "cell_type": "code",
   "execution_count": null,
   "metadata": {},
   "outputs": [],
   "source": [
    "analytic_cog_metadata = submit_request(titiler_endpoint, \"cog/metadata\", dsm)\n",
    "print(json.dumps(analytic_cog_metadata, indent=4))"
   ]
  },
  {
   "cell_type": "code",
   "execution_count": 12,
   "metadata": {},
   "outputs": [],
   "source": [
    "def submit_xy(BASE_URL, endpoint, url, lon, lat):\n",
    "    r = requests.get(\n",
    "        f\"{BASE_URL}/{endpoint}/{lon},{lat}\",\n",
    "        params = {\n",
    "            \"url\": url,\n",
    "        }\n",
    "    ).json()\n",
    "    return r"
   ]
  },
  {
   "cell_type": "code",
   "execution_count": 13,
   "metadata": {},
   "outputs": [],
   "source": [
    "lon = -122.20786813\n",
    "lat = 38.00287827\n",
    "\n",
    "xy_dat = submit_xy(titiler_endpoint, \"cog/point\", dsm, lon, lat)\n",
    "print(json.dumps(xy_dat, indent=4))"
   ]
  },
  {
   "cell_type": "code",
   "execution_count": null,
   "metadata": {},
   "outputs": [],
   "source": []
  },
  {
   "cell_type": "code",
   "execution_count": null,
   "metadata": {},
   "outputs": [],
   "source": []
  }
 ],
 "metadata": {
  "kernelspec": {
   "display_name": "Python 3.9.13 ('gis_workbench')",
   "language": "python",
   "name": "python3"
  },
  "language_info": {
   "codemirror_mode": {
    "name": "ipython",
    "version": 3
   },
   "file_extension": ".py",
   "mimetype": "text/x-python",
   "name": "python",
   "nbconvert_exporter": "python",
   "pygments_lexer": "ipython3",
   "version": "3.9.13"
  },
  "orig_nbformat": 4,
  "vscode": {
   "interpreter": {
    "hash": "f118e2c6096a1bca6657bf34e89752b6b62207437ef6c9ce60acc12c281b6ffb"
   }
  }
 },
 "nbformat": 4,
 "nbformat_minor": 2
}
